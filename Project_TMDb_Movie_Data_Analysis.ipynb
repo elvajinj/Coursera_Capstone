{
  "nbformat": 4,
  "nbformat_minor": 0,
  "metadata": {
    "kernelspec": {
      "display_name": "Python 3",
      "language": "python",
      "name": "python3"
    },
    "language_info": {
      "codemirror_mode": {
        "name": "ipython",
        "version": 3
      },
      "file_extension": ".py",
      "mimetype": "text/x-python",
      "name": "python",
      "nbconvert_exporter": "python",
      "pygments_lexer": "ipython3",
      "version": "3.6.3"
    },
    "colab": {
      "name": "Project: TMDb Movie Data Analysis.ipynb",
      "provenance": [],
      "collapsed_sections": [],
      "include_colab_link": true
    }
  },
  "cells": [
    {
      "cell_type": "markdown",
      "metadata": {
        "id": "view-in-github",
        "colab_type": "text"
      },
      "source": [
        "<a href=\"https://colab.research.google.com/github/elvajinj/Python-Project/blob/master/Project_TMDb_Movie_Data_Analysis.ipynb\" target=\"_parent\"><img src=\"https://colab.research.google.com/assets/colab-badge.svg\" alt=\"Open In Colab\"/></a>"
      ]
    },
    {
      "cell_type": "markdown",
      "metadata": {
        "id": "30aCI0RfIm_W",
        "colab_type": "text"
      },
      "source": [
        "# Project: TMDb Movie Data Analysis\n",
        "\n",
        "## Table of Contents\n",
        "<ul>\n",
        "<li><a href=\"#intro\">Introduction</a></li>\n",
        "<li><a href=\"#wrangling\">Data Wrangling</a></li>\n",
        "<li><a href=\"#eda\">Exploratory Data Analysis</a></li>\n",
        "<li><a href=\"#conclusions\">Conclusions</a></li>\n",
        "</ul>"
      ]
    },
    {
      "cell_type": "markdown",
      "metadata": {
        "id": "IhFHyRnuIm_e",
        "colab_type": "text"
      },
      "source": [
        "<a id='intro'></a>\n",
        "## Introduction\n"
      ]
    },
    {
      "cell_type": "code",
      "metadata": {
        "id": "FbMGvXvdIm_g",
        "colab_type": "code",
        "colab": {}
      },
      "source": [
        "#import data source\n",
        "import numpy as np\n",
        "import pandas as pd\n",
        "import matplotlib.pyplot as plt\n",
        "import seaborn as sns\n",
        "% matplotlib inline"
      ],
      "execution_count": 0,
      "outputs": []
    },
    {
      "cell_type": "markdown",
      "metadata": {
        "id": "mEfWjkd-KL--",
        "colab_type": "text"
      },
      "source": [
        ""
      ]
    },
    {
      "cell_type": "markdown",
      "metadata": {
        "id": "v4iLlluSIm_p",
        "colab_type": "text"
      },
      "source": [
        "<a id='wrangling'></a>\n",
        "## Data Wrangling\n",
        "\n",
        "### Load data"
      ]
    },
    {
      "cell_type": "code",
      "metadata": {
        "id": "1x-_oyU8Im_q",
        "colab_type": "code",
        "outputId": "dfb5f2ab-a41f-4a7f-9b42-2c1fca740165",
        "colab": {
          "base_uri": "https://localhost:8080/",
          "height": 618
        }
      },
      "source": [
        "#1. Load data from data source\n",
        "df=pd.read_csv('https://d17h27t6h515a5.cloudfront.net/topher/2017/October/59dd1c4c_tmdb-movies/tmdb-movies.csv')\n",
        "df.head()"
      ],
      "execution_count": 57,
      "outputs": [
        {
          "output_type": "execute_result",
          "data": {
            "text/html": [
              "<div>\n",
              "<style scoped>\n",
              "    .dataframe tbody tr th:only-of-type {\n",
              "        vertical-align: middle;\n",
              "    }\n",
              "\n",
              "    .dataframe tbody tr th {\n",
              "        vertical-align: top;\n",
              "    }\n",
              "\n",
              "    .dataframe thead th {\n",
              "        text-align: right;\n",
              "    }\n",
              "</style>\n",
              "<table border=\"1\" class=\"dataframe\">\n",
              "  <thead>\n",
              "    <tr style=\"text-align: right;\">\n",
              "      <th></th>\n",
              "      <th>id</th>\n",
              "      <th>imdb_id</th>\n",
              "      <th>popularity</th>\n",
              "      <th>budget</th>\n",
              "      <th>revenue</th>\n",
              "      <th>original_title</th>\n",
              "      <th>cast</th>\n",
              "      <th>homepage</th>\n",
              "      <th>director</th>\n",
              "      <th>tagline</th>\n",
              "      <th>keywords</th>\n",
              "      <th>overview</th>\n",
              "      <th>runtime</th>\n",
              "      <th>genres</th>\n",
              "      <th>production_companies</th>\n",
              "      <th>release_date</th>\n",
              "      <th>vote_count</th>\n",
              "      <th>vote_average</th>\n",
              "      <th>release_year</th>\n",
              "      <th>budget_adj</th>\n",
              "      <th>revenue_adj</th>\n",
              "    </tr>\n",
              "  </thead>\n",
              "  <tbody>\n",
              "    <tr>\n",
              "      <th>0</th>\n",
              "      <td>135397</td>\n",
              "      <td>tt0369610</td>\n",
              "      <td>32.985763</td>\n",
              "      <td>150000000</td>\n",
              "      <td>1513528810</td>\n",
              "      <td>Jurassic World</td>\n",
              "      <td>Chris Pratt|Bryce Dallas Howard|Irrfan Khan|Vi...</td>\n",
              "      <td>http://www.jurassicworld.com/</td>\n",
              "      <td>Colin Trevorrow</td>\n",
              "      <td>The park is open.</td>\n",
              "      <td>monster|dna|tyrannosaurus rex|velociraptor|island</td>\n",
              "      <td>Twenty-two years after the events of Jurassic ...</td>\n",
              "      <td>124</td>\n",
              "      <td>Action|Adventure|Science Fiction|Thriller</td>\n",
              "      <td>Universal Studios|Amblin Entertainment|Legenda...</td>\n",
              "      <td>6/9/15</td>\n",
              "      <td>5562</td>\n",
              "      <td>6.5</td>\n",
              "      <td>2015</td>\n",
              "      <td>1.379999e+08</td>\n",
              "      <td>1.392446e+09</td>\n",
              "    </tr>\n",
              "    <tr>\n",
              "      <th>1</th>\n",
              "      <td>76341</td>\n",
              "      <td>tt1392190</td>\n",
              "      <td>28.419936</td>\n",
              "      <td>150000000</td>\n",
              "      <td>378436354</td>\n",
              "      <td>Mad Max: Fury Road</td>\n",
              "      <td>Tom Hardy|Charlize Theron|Hugh Keays-Byrne|Nic...</td>\n",
              "      <td>http://www.madmaxmovie.com/</td>\n",
              "      <td>George Miller</td>\n",
              "      <td>What a Lovely Day.</td>\n",
              "      <td>future|chase|post-apocalyptic|dystopia|australia</td>\n",
              "      <td>An apocalyptic story set in the furthest reach...</td>\n",
              "      <td>120</td>\n",
              "      <td>Action|Adventure|Science Fiction|Thriller</td>\n",
              "      <td>Village Roadshow Pictures|Kennedy Miller Produ...</td>\n",
              "      <td>5/13/15</td>\n",
              "      <td>6185</td>\n",
              "      <td>7.1</td>\n",
              "      <td>2015</td>\n",
              "      <td>1.379999e+08</td>\n",
              "      <td>3.481613e+08</td>\n",
              "    </tr>\n",
              "    <tr>\n",
              "      <th>2</th>\n",
              "      <td>262500</td>\n",
              "      <td>tt2908446</td>\n",
              "      <td>13.112507</td>\n",
              "      <td>110000000</td>\n",
              "      <td>295238201</td>\n",
              "      <td>Insurgent</td>\n",
              "      <td>Shailene Woodley|Theo James|Kate Winslet|Ansel...</td>\n",
              "      <td>http://www.thedivergentseries.movie/#insurgent</td>\n",
              "      <td>Robert Schwentke</td>\n",
              "      <td>One Choice Can Destroy You</td>\n",
              "      <td>based on novel|revolution|dystopia|sequel|dyst...</td>\n",
              "      <td>Beatrice Prior must confront her inner demons ...</td>\n",
              "      <td>119</td>\n",
              "      <td>Adventure|Science Fiction|Thriller</td>\n",
              "      <td>Summit Entertainment|Mandeville Films|Red Wago...</td>\n",
              "      <td>3/18/15</td>\n",
              "      <td>2480</td>\n",
              "      <td>6.3</td>\n",
              "      <td>2015</td>\n",
              "      <td>1.012000e+08</td>\n",
              "      <td>2.716190e+08</td>\n",
              "    </tr>\n",
              "    <tr>\n",
              "      <th>3</th>\n",
              "      <td>140607</td>\n",
              "      <td>tt2488496</td>\n",
              "      <td>11.173104</td>\n",
              "      <td>200000000</td>\n",
              "      <td>2068178225</td>\n",
              "      <td>Star Wars: The Force Awakens</td>\n",
              "      <td>Harrison Ford|Mark Hamill|Carrie Fisher|Adam D...</td>\n",
              "      <td>http://www.starwars.com/films/star-wars-episod...</td>\n",
              "      <td>J.J. Abrams</td>\n",
              "      <td>Every generation has a story.</td>\n",
              "      <td>android|spaceship|jedi|space opera|3d</td>\n",
              "      <td>Thirty years after defeating the Galactic Empi...</td>\n",
              "      <td>136</td>\n",
              "      <td>Action|Adventure|Science Fiction|Fantasy</td>\n",
              "      <td>Lucasfilm|Truenorth Productions|Bad Robot</td>\n",
              "      <td>12/15/15</td>\n",
              "      <td>5292</td>\n",
              "      <td>7.5</td>\n",
              "      <td>2015</td>\n",
              "      <td>1.839999e+08</td>\n",
              "      <td>1.902723e+09</td>\n",
              "    </tr>\n",
              "    <tr>\n",
              "      <th>4</th>\n",
              "      <td>168259</td>\n",
              "      <td>tt2820852</td>\n",
              "      <td>9.335014</td>\n",
              "      <td>190000000</td>\n",
              "      <td>1506249360</td>\n",
              "      <td>Furious 7</td>\n",
              "      <td>Vin Diesel|Paul Walker|Jason Statham|Michelle ...</td>\n",
              "      <td>http://www.furious7.com/</td>\n",
              "      <td>James Wan</td>\n",
              "      <td>Vengeance Hits Home</td>\n",
              "      <td>car race|speed|revenge|suspense|car</td>\n",
              "      <td>Deckard Shaw seeks revenge against Dominic Tor...</td>\n",
              "      <td>137</td>\n",
              "      <td>Action|Crime|Thriller</td>\n",
              "      <td>Universal Pictures|Original Film|Media Rights ...</td>\n",
              "      <td>4/1/15</td>\n",
              "      <td>2947</td>\n",
              "      <td>7.3</td>\n",
              "      <td>2015</td>\n",
              "      <td>1.747999e+08</td>\n",
              "      <td>1.385749e+09</td>\n",
              "    </tr>\n",
              "  </tbody>\n",
              "</table>\n",
              "</div>"
            ],
            "text/plain": [
              "       id    imdb_id  popularity  ...  release_year    budget_adj   revenue_adj\n",
              "0  135397  tt0369610   32.985763  ...          2015  1.379999e+08  1.392446e+09\n",
              "1   76341  tt1392190   28.419936  ...          2015  1.379999e+08  3.481613e+08\n",
              "2  262500  tt2908446   13.112507  ...          2015  1.012000e+08  2.716190e+08\n",
              "3  140607  tt2488496   11.173104  ...          2015  1.839999e+08  1.902723e+09\n",
              "4  168259  tt2820852    9.335014  ...          2015  1.747999e+08  1.385749e+09\n",
              "\n",
              "[5 rows x 21 columns]"
            ]
          },
          "metadata": {
            "tags": []
          },
          "execution_count": 57
        }
      ]
    },
    {
      "cell_type": "code",
      "metadata": {
        "id": "fmA0XDpKIm_3",
        "colab_type": "code",
        "outputId": "496e6625-d74d-4632-b089-420c86fd52bd",
        "colab": {
          "base_uri": "https://localhost:8080/",
          "height": 34
        }
      },
      "source": [
        "df.shape"
      ],
      "execution_count": 58,
      "outputs": [
        {
          "output_type": "execute_result",
          "data": {
            "text/plain": [
              "(10866, 21)"
            ]
          },
          "metadata": {
            "tags": []
          },
          "execution_count": 58
        }
      ]
    },
    {
      "cell_type": "code",
      "metadata": {
        "id": "cMWqeWibIm_9",
        "colab_type": "code",
        "outputId": "59459a86-d76c-4ee5-e38a-3ff7ab1f17e4",
        "colab": {
          "base_uri": "https://localhost:8080/",
          "height": 284
        }
      },
      "source": [
        "df.describe()"
      ],
      "execution_count": 59,
      "outputs": [
        {
          "output_type": "execute_result",
          "data": {
            "text/html": [
              "<div>\n",
              "<style scoped>\n",
              "    .dataframe tbody tr th:only-of-type {\n",
              "        vertical-align: middle;\n",
              "    }\n",
              "\n",
              "    .dataframe tbody tr th {\n",
              "        vertical-align: top;\n",
              "    }\n",
              "\n",
              "    .dataframe thead th {\n",
              "        text-align: right;\n",
              "    }\n",
              "</style>\n",
              "<table border=\"1\" class=\"dataframe\">\n",
              "  <thead>\n",
              "    <tr style=\"text-align: right;\">\n",
              "      <th></th>\n",
              "      <th>id</th>\n",
              "      <th>popularity</th>\n",
              "      <th>budget</th>\n",
              "      <th>revenue</th>\n",
              "      <th>runtime</th>\n",
              "      <th>vote_count</th>\n",
              "      <th>vote_average</th>\n",
              "      <th>release_year</th>\n",
              "      <th>budget_adj</th>\n",
              "      <th>revenue_adj</th>\n",
              "    </tr>\n",
              "  </thead>\n",
              "  <tbody>\n",
              "    <tr>\n",
              "      <th>count</th>\n",
              "      <td>10866.000000</td>\n",
              "      <td>10866.000000</td>\n",
              "      <td>1.086600e+04</td>\n",
              "      <td>1.086600e+04</td>\n",
              "      <td>10866.000000</td>\n",
              "      <td>10866.000000</td>\n",
              "      <td>10866.000000</td>\n",
              "      <td>10866.000000</td>\n",
              "      <td>1.086600e+04</td>\n",
              "      <td>1.086600e+04</td>\n",
              "    </tr>\n",
              "    <tr>\n",
              "      <th>mean</th>\n",
              "      <td>66064.177434</td>\n",
              "      <td>0.646441</td>\n",
              "      <td>1.462570e+07</td>\n",
              "      <td>3.982332e+07</td>\n",
              "      <td>102.070863</td>\n",
              "      <td>217.389748</td>\n",
              "      <td>5.974922</td>\n",
              "      <td>2001.322658</td>\n",
              "      <td>1.755104e+07</td>\n",
              "      <td>5.136436e+07</td>\n",
              "    </tr>\n",
              "    <tr>\n",
              "      <th>std</th>\n",
              "      <td>92130.136561</td>\n",
              "      <td>1.000185</td>\n",
              "      <td>3.091321e+07</td>\n",
              "      <td>1.170035e+08</td>\n",
              "      <td>31.381405</td>\n",
              "      <td>575.619058</td>\n",
              "      <td>0.935142</td>\n",
              "      <td>12.812941</td>\n",
              "      <td>3.430616e+07</td>\n",
              "      <td>1.446325e+08</td>\n",
              "    </tr>\n",
              "    <tr>\n",
              "      <th>min</th>\n",
              "      <td>5.000000</td>\n",
              "      <td>0.000065</td>\n",
              "      <td>0.000000e+00</td>\n",
              "      <td>0.000000e+00</td>\n",
              "      <td>0.000000</td>\n",
              "      <td>10.000000</td>\n",
              "      <td>1.500000</td>\n",
              "      <td>1960.000000</td>\n",
              "      <td>0.000000e+00</td>\n",
              "      <td>0.000000e+00</td>\n",
              "    </tr>\n",
              "    <tr>\n",
              "      <th>25%</th>\n",
              "      <td>10596.250000</td>\n",
              "      <td>0.207583</td>\n",
              "      <td>0.000000e+00</td>\n",
              "      <td>0.000000e+00</td>\n",
              "      <td>90.000000</td>\n",
              "      <td>17.000000</td>\n",
              "      <td>5.400000</td>\n",
              "      <td>1995.000000</td>\n",
              "      <td>0.000000e+00</td>\n",
              "      <td>0.000000e+00</td>\n",
              "    </tr>\n",
              "    <tr>\n",
              "      <th>50%</th>\n",
              "      <td>20669.000000</td>\n",
              "      <td>0.383856</td>\n",
              "      <td>0.000000e+00</td>\n",
              "      <td>0.000000e+00</td>\n",
              "      <td>99.000000</td>\n",
              "      <td>38.000000</td>\n",
              "      <td>6.000000</td>\n",
              "      <td>2006.000000</td>\n",
              "      <td>0.000000e+00</td>\n",
              "      <td>0.000000e+00</td>\n",
              "    </tr>\n",
              "    <tr>\n",
              "      <th>75%</th>\n",
              "      <td>75610.000000</td>\n",
              "      <td>0.713817</td>\n",
              "      <td>1.500000e+07</td>\n",
              "      <td>2.400000e+07</td>\n",
              "      <td>111.000000</td>\n",
              "      <td>145.750000</td>\n",
              "      <td>6.600000</td>\n",
              "      <td>2011.000000</td>\n",
              "      <td>2.085325e+07</td>\n",
              "      <td>3.369710e+07</td>\n",
              "    </tr>\n",
              "    <tr>\n",
              "      <th>max</th>\n",
              "      <td>417859.000000</td>\n",
              "      <td>32.985763</td>\n",
              "      <td>4.250000e+08</td>\n",
              "      <td>2.781506e+09</td>\n",
              "      <td>900.000000</td>\n",
              "      <td>9767.000000</td>\n",
              "      <td>9.200000</td>\n",
              "      <td>2015.000000</td>\n",
              "      <td>4.250000e+08</td>\n",
              "      <td>2.827124e+09</td>\n",
              "    </tr>\n",
              "  </tbody>\n",
              "</table>\n",
              "</div>"
            ],
            "text/plain": [
              "                  id    popularity  ...    budget_adj   revenue_adj\n",
              "count   10866.000000  10866.000000  ...  1.086600e+04  1.086600e+04\n",
              "mean    66064.177434      0.646441  ...  1.755104e+07  5.136436e+07\n",
              "std     92130.136561      1.000185  ...  3.430616e+07  1.446325e+08\n",
              "min         5.000000      0.000065  ...  0.000000e+00  0.000000e+00\n",
              "25%     10596.250000      0.207583  ...  0.000000e+00  0.000000e+00\n",
              "50%     20669.000000      0.383856  ...  0.000000e+00  0.000000e+00\n",
              "75%     75610.000000      0.713817  ...  2.085325e+07  3.369710e+07\n",
              "max    417859.000000     32.985763  ...  4.250000e+08  2.827124e+09\n",
              "\n",
              "[8 rows x 10 columns]"
            ]
          },
          "metadata": {
            "tags": []
          },
          "execution_count": 59
        }
      ]
    },
    {
      "cell_type": "markdown",
      "metadata": {
        "id": "UxYHNFILInAE",
        "colab_type": "text"
      },
      "source": [
        "### Data Cleaning "
      ]
    },
    {
      "cell_type": "code",
      "metadata": {
        "id": "pj-Owlp2InAI",
        "colab_type": "code",
        "colab": {}
      },
      "source": [
        "#check the data type and remove the unnecessary data"
      ],
      "execution_count": 0,
      "outputs": []
    },
    {
      "cell_type": "code",
      "metadata": {
        "id": "uUpg3wMaInAe",
        "colab_type": "code",
        "outputId": "94c2557d-7100-47af-9c0d-9ad4aa4a41e8",
        "colab": {
          "base_uri": "https://localhost:8080/",
          "height": 474
        }
      },
      "source": [
        "df.info()"
      ],
      "execution_count": 61,
      "outputs": [
        {
          "output_type": "stream",
          "text": [
            "<class 'pandas.core.frame.DataFrame'>\n",
            "RangeIndex: 10866 entries, 0 to 10865\n",
            "Data columns (total 21 columns):\n",
            "id                      10866 non-null int64\n",
            "imdb_id                 10856 non-null object\n",
            "popularity              10866 non-null float64\n",
            "budget                  10866 non-null int64\n",
            "revenue                 10866 non-null int64\n",
            "original_title          10866 non-null object\n",
            "cast                    10790 non-null object\n",
            "homepage                2936 non-null object\n",
            "director                10822 non-null object\n",
            "tagline                 8042 non-null object\n",
            "keywords                9373 non-null object\n",
            "overview                10862 non-null object\n",
            "runtime                 10866 non-null int64\n",
            "genres                  10843 non-null object\n",
            "production_companies    9836 non-null object\n",
            "release_date            10866 non-null object\n",
            "vote_count              10866 non-null int64\n",
            "vote_average            10866 non-null float64\n",
            "release_year            10866 non-null int64\n",
            "budget_adj              10866 non-null float64\n",
            "revenue_adj             10866 non-null float64\n",
            "dtypes: float64(4), int64(6), object(11)\n",
            "memory usage: 1.7+ MB\n"
          ],
          "name": "stdout"
        }
      ]
    },
    {
      "cell_type": "code",
      "metadata": {
        "id": "kjdR4eirInAj",
        "colab_type": "code",
        "colab": {}
      },
      "source": [
        "#drop the unnecessary columns"
      ],
      "execution_count": 0,
      "outputs": []
    },
    {
      "cell_type": "code",
      "metadata": {
        "id": "9EbOxriPInAn",
        "colab_type": "code",
        "colab": {}
      },
      "source": [
        "df.drop(['imdb_id','cast','homepage','tagline','overview','keywords','production_companies','budget_adj','revenue_adj'],axis=1,inplace=True)"
      ],
      "execution_count": 0,
      "outputs": []
    },
    {
      "cell_type": "code",
      "metadata": {
        "id": "-hIpQcWHInAx",
        "colab_type": "code",
        "outputId": "e6fece1e-3059-47dc-cae1-ee43ad6d9905",
        "colab": {
          "base_uri": "https://localhost:8080/",
          "height": 262
        }
      },
      "source": [
        "df.head()"
      ],
      "execution_count": 64,
      "outputs": [
        {
          "output_type": "execute_result",
          "data": {
            "text/html": [
              "<div>\n",
              "<style scoped>\n",
              "    .dataframe tbody tr th:only-of-type {\n",
              "        vertical-align: middle;\n",
              "    }\n",
              "\n",
              "    .dataframe tbody tr th {\n",
              "        vertical-align: top;\n",
              "    }\n",
              "\n",
              "    .dataframe thead th {\n",
              "        text-align: right;\n",
              "    }\n",
              "</style>\n",
              "<table border=\"1\" class=\"dataframe\">\n",
              "  <thead>\n",
              "    <tr style=\"text-align: right;\">\n",
              "      <th></th>\n",
              "      <th>id</th>\n",
              "      <th>popularity</th>\n",
              "      <th>budget</th>\n",
              "      <th>revenue</th>\n",
              "      <th>original_title</th>\n",
              "      <th>director</th>\n",
              "      <th>runtime</th>\n",
              "      <th>genres</th>\n",
              "      <th>release_date</th>\n",
              "      <th>vote_count</th>\n",
              "      <th>vote_average</th>\n",
              "      <th>release_year</th>\n",
              "    </tr>\n",
              "  </thead>\n",
              "  <tbody>\n",
              "    <tr>\n",
              "      <th>0</th>\n",
              "      <td>135397</td>\n",
              "      <td>32.985763</td>\n",
              "      <td>150000000</td>\n",
              "      <td>1513528810</td>\n",
              "      <td>Jurassic World</td>\n",
              "      <td>Colin Trevorrow</td>\n",
              "      <td>124</td>\n",
              "      <td>Action|Adventure|Science Fiction|Thriller</td>\n",
              "      <td>6/9/15</td>\n",
              "      <td>5562</td>\n",
              "      <td>6.5</td>\n",
              "      <td>2015</td>\n",
              "    </tr>\n",
              "    <tr>\n",
              "      <th>1</th>\n",
              "      <td>76341</td>\n",
              "      <td>28.419936</td>\n",
              "      <td>150000000</td>\n",
              "      <td>378436354</td>\n",
              "      <td>Mad Max: Fury Road</td>\n",
              "      <td>George Miller</td>\n",
              "      <td>120</td>\n",
              "      <td>Action|Adventure|Science Fiction|Thriller</td>\n",
              "      <td>5/13/15</td>\n",
              "      <td>6185</td>\n",
              "      <td>7.1</td>\n",
              "      <td>2015</td>\n",
              "    </tr>\n",
              "    <tr>\n",
              "      <th>2</th>\n",
              "      <td>262500</td>\n",
              "      <td>13.112507</td>\n",
              "      <td>110000000</td>\n",
              "      <td>295238201</td>\n",
              "      <td>Insurgent</td>\n",
              "      <td>Robert Schwentke</td>\n",
              "      <td>119</td>\n",
              "      <td>Adventure|Science Fiction|Thriller</td>\n",
              "      <td>3/18/15</td>\n",
              "      <td>2480</td>\n",
              "      <td>6.3</td>\n",
              "      <td>2015</td>\n",
              "    </tr>\n",
              "    <tr>\n",
              "      <th>3</th>\n",
              "      <td>140607</td>\n",
              "      <td>11.173104</td>\n",
              "      <td>200000000</td>\n",
              "      <td>2068178225</td>\n",
              "      <td>Star Wars: The Force Awakens</td>\n",
              "      <td>J.J. Abrams</td>\n",
              "      <td>136</td>\n",
              "      <td>Action|Adventure|Science Fiction|Fantasy</td>\n",
              "      <td>12/15/15</td>\n",
              "      <td>5292</td>\n",
              "      <td>7.5</td>\n",
              "      <td>2015</td>\n",
              "    </tr>\n",
              "    <tr>\n",
              "      <th>4</th>\n",
              "      <td>168259</td>\n",
              "      <td>9.335014</td>\n",
              "      <td>190000000</td>\n",
              "      <td>1506249360</td>\n",
              "      <td>Furious 7</td>\n",
              "      <td>James Wan</td>\n",
              "      <td>137</td>\n",
              "      <td>Action|Crime|Thriller</td>\n",
              "      <td>4/1/15</td>\n",
              "      <td>2947</td>\n",
              "      <td>7.3</td>\n",
              "      <td>2015</td>\n",
              "    </tr>\n",
              "  </tbody>\n",
              "</table>\n",
              "</div>"
            ],
            "text/plain": [
              "       id  popularity     budget  ...  vote_count vote_average release_year\n",
              "0  135397   32.985763  150000000  ...        5562          6.5         2015\n",
              "1   76341   28.419936  150000000  ...        6185          7.1         2015\n",
              "2  262500   13.112507  110000000  ...        2480          6.3         2015\n",
              "3  140607   11.173104  200000000  ...        5292          7.5         2015\n",
              "4  168259    9.335014  190000000  ...        2947          7.3         2015\n",
              "\n",
              "[5 rows x 12 columns]"
            ]
          },
          "metadata": {
            "tags": []
          },
          "execution_count": 64
        }
      ]
    },
    {
      "cell_type": "code",
      "metadata": {
        "id": "LeWH_aobInA2",
        "colab_type": "code",
        "outputId": "e5dc00da-c334-40c6-f27c-363a0063b93b",
        "colab": {
          "base_uri": "https://localhost:8080/",
          "height": 316
        }
      },
      "source": [
        "df.info()"
      ],
      "execution_count": 65,
      "outputs": [
        {
          "output_type": "stream",
          "text": [
            "<class 'pandas.core.frame.DataFrame'>\n",
            "RangeIndex: 10866 entries, 0 to 10865\n",
            "Data columns (total 12 columns):\n",
            "id                10866 non-null int64\n",
            "popularity        10866 non-null float64\n",
            "budget            10866 non-null int64\n",
            "revenue           10866 non-null int64\n",
            "original_title    10866 non-null object\n",
            "director          10822 non-null object\n",
            "runtime           10866 non-null int64\n",
            "genres            10843 non-null object\n",
            "release_date      10866 non-null object\n",
            "vote_count        10866 non-null int64\n",
            "vote_average      10866 non-null float64\n",
            "release_year      10866 non-null int64\n",
            "dtypes: float64(2), int64(6), object(4)\n",
            "memory usage: 1018.8+ KB\n"
          ],
          "name": "stdout"
        }
      ]
    },
    {
      "cell_type": "code",
      "metadata": {
        "id": "cKBFz-zoInA8",
        "colab_type": "code",
        "outputId": "cf2409dc-8b95-4f27-a94e-8af1567b511f",
        "colab": {
          "base_uri": "https://localhost:8080/",
          "height": 1000
        }
      },
      "source": [
        "#check missing info\n",
        "df[df.genres.isnull()].hist(figsize=(8,8))\n",
        "df[df.director.isnull()].hist(figsize=(8,8))"
      ],
      "execution_count": 66,
      "outputs": [
        {
          "output_type": "execute_result",
          "data": {
            "text/plain": [
              "array([[<matplotlib.axes._subplots.AxesSubplot object at 0x7fd3285494a8>,\n",
              "        <matplotlib.axes._subplots.AxesSubplot object at 0x7fd3284f9748>,\n",
              "        <matplotlib.axes._subplots.AxesSubplot object at 0x7fd3284aacf8>],\n",
              "       [<matplotlib.axes._subplots.AxesSubplot object at 0x7fd32c7534e0>,\n",
              "        <matplotlib.axes._subplots.AxesSubplot object at 0x7fd329118128>,\n",
              "        <matplotlib.axes._subplots.AxesSubplot object at 0x7fd329187198>],\n",
              "       [<matplotlib.axes._subplots.AxesSubplot object at 0x7fd3295dae10>,\n",
              "        <matplotlib.axes._subplots.AxesSubplot object at 0x7fd3299ae588>,\n",
              "        <matplotlib.axes._subplots.AxesSubplot object at 0x7fd3299ae5c0>]],\n",
              "      dtype=object)"
            ]
          },
          "metadata": {
            "tags": []
          },
          "execution_count": 66
        },
        {
          "output_type": "display_data",
          "data": {
            "image/png": "[encoded data removed]",
            "text/plain": [
              "<Figure size 576x576 with 9 Axes>"
            ]
          },
          "metadata": {
            "tags": []
          }
        },
        {
          "output_type": "display_data",
          "data": {
            "image/png": "[encoded data removed]",
            "text/plain": [
              "<Figure size 576x576 with 9 Axes>"
            ]
          },
          "metadata": {
            "tags": []
          }
        }
      ]
    },
    {
      "cell_type": "code",
      "metadata": {
        "id": "Tfw86IGLInBF",
        "colab_type": "code",
        "outputId": "71af022c-c1b8-4ac7-e0f6-5be399906f31",
        "colab": {
          "base_uri": "https://localhost:8080/",
          "height": 675
        }
      },
      "source": [
        "df.hist(figsize=(8,8))"
      ],
      "execution_count": 67,
      "outputs": [
        {
          "output_type": "execute_result",
          "data": {
            "text/plain": [
              "array([[<matplotlib.axes._subplots.AxesSubplot object at 0x7fd329989898>,\n",
              "        <matplotlib.axes._subplots.AxesSubplot object at 0x7fd329b37908>,\n",
              "        <matplotlib.axes._subplots.AxesSubplot object at 0x7fd329a6ce80>],\n",
              "       [<matplotlib.axes._subplots.AxesSubplot object at 0x7fd329ab8470>,\n",
              "        <matplotlib.axes._subplots.AxesSubplot object at 0x7fd329ad4a20>,\n",
              "        <matplotlib.axes._subplots.AxesSubplot object at 0x7fd32841bfd0>],\n",
              "       [<matplotlib.axes._subplots.AxesSubplot object at 0x7fd3283d75c0>,\n",
              "        <matplotlib.axes._subplots.AxesSubplot object at 0x7fd32840aba8>,\n",
              "        <matplotlib.axes._subplots.AxesSubplot object at 0x7fd32840abe0>]],\n",
              "      dtype=object)"
            ]
          },
          "metadata": {
            "tags": []
          },
          "execution_count": 67
        },
        {
          "output_type": "display_data",
          "data": {
            "image/png": "[encoded data removed]",
            "text/plain": [
              "<Figure size 576x576 with 9 Axes>"
            ]
          },
          "metadata": {
            "tags": []
          }
        }
      ]
    },
    {
      "cell_type": "code",
      "metadata": {
        "id": "7VPU14ZyInBR",
        "colab_type": "code",
        "outputId": "c395fea0-3c17-4de8-c9e3-89607b5138b0",
        "colab": {
          "base_uri": "https://localhost:8080/",
          "height": 829
        }
      },
      "source": [
        "#pull the null data to double check\n",
        "df[df.genres.isnull()]"
      ],
      "execution_count": 68,
      "outputs": [
        {
          "output_type": "execute_result",
          "data": {
            "text/html": [
              "<div>\n",
              "<style scoped>\n",
              "    .dataframe tbody tr th:only-of-type {\n",
              "        vertical-align: middle;\n",
              "    }\n",
              "\n",
              "    .dataframe tbody tr th {\n",
              "        vertical-align: top;\n",
              "    }\n",
              "\n",
              "    .dataframe thead th {\n",
              "        text-align: right;\n",
              "    }\n",
              "</style>\n",
              "<table border=\"1\" class=\"dataframe\">\n",
              "  <thead>\n",
              "    <tr style=\"text-align: right;\">\n",
              "      <th></th>\n",
              "      <th>id</th>\n",
              "      <th>popularity</th>\n",
              "      <th>budget</th>\n",
              "      <th>revenue</th>\n",
              "      <th>original_title</th>\n",
              "      <th>director</th>\n",
              "      <th>runtime</th>\n",
              "      <th>genres</th>\n",
              "      <th>release_date</th>\n",
              "      <th>vote_count</th>\n",
              "      <th>vote_average</th>\n",
              "      <th>release_year</th>\n",
              "    </tr>\n",
              "  </thead>\n",
              "  <tbody>\n",
              "    <tr>\n",
              "      <th>424</th>\n",
              "      <td>363869</td>\n",
              "      <td>0.244648</td>\n",
              "      <td>0</td>\n",
              "      <td>0</td>\n",
              "      <td>Belli di papÃ</td>\n",
              "      <td>Guido Chiesa</td>\n",
              "      <td>100</td>\n",
              "      <td>NaN</td>\n",
              "      <td>10/29/15</td>\n",
              "      <td>21</td>\n",
              "      <td>6.1</td>\n",
              "      <td>2015</td>\n",
              "    </tr>\n",
              "    <tr>\n",
              "      <th>620</th>\n",
              "      <td>361043</td>\n",
              "      <td>0.129696</td>\n",
              "      <td>0</td>\n",
              "      <td>0</td>\n",
              "      <td>All Hallows' Eve 2</td>\n",
              "      <td>Antonio Padovan|Bryan Norton|Marc Roussel|Ryan...</td>\n",
              "      <td>90</td>\n",
              "      <td>NaN</td>\n",
              "      <td>10/6/15</td>\n",
              "      <td>13</td>\n",
              "      <td>5.0</td>\n",
              "      <td>2015</td>\n",
              "    </tr>\n",
              "    <tr>\n",
              "      <th>997</th>\n",
              "      <td>287663</td>\n",
              "      <td>0.330431</td>\n",
              "      <td>0</td>\n",
              "      <td>0</td>\n",
              "      <td>Star Wars Rebels: Spark of Rebellion</td>\n",
              "      <td>Steward Lee|Steven G. Lee</td>\n",
              "      <td>44</td>\n",
              "      <td>NaN</td>\n",
              "      <td>10/3/14</td>\n",
              "      <td>13</td>\n",
              "      <td>6.8</td>\n",
              "      <td>2014</td>\n",
              "    </tr>\n",
              "    <tr>\n",
              "      <th>1712</th>\n",
              "      <td>21634</td>\n",
              "      <td>0.302095</td>\n",
              "      <td>0</td>\n",
              "      <td>0</td>\n",
              "      <td>Prayers for Bobby</td>\n",
              "      <td>Russell Mulcahy</td>\n",
              "      <td>88</td>\n",
              "      <td>NaN</td>\n",
              "      <td>2/27/09</td>\n",
              "      <td>57</td>\n",
              "      <td>7.4</td>\n",
              "      <td>2009</td>\n",
              "    </tr>\n",
              "    <tr>\n",
              "      <th>1897</th>\n",
              "      <td>40534</td>\n",
              "      <td>0.020701</td>\n",
              "      <td>0</td>\n",
              "      <td>0</td>\n",
              "      <td>Jonas Brothers: The Concert Experience</td>\n",
              "      <td>Bruce Hendricks</td>\n",
              "      <td>76</td>\n",
              "      <td>NaN</td>\n",
              "      <td>2/27/09</td>\n",
              "      <td>11</td>\n",
              "      <td>7.0</td>\n",
              "      <td>2009</td>\n",
              "    </tr>\n",
              "    <tr>\n",
              "      <th>2370</th>\n",
              "      <td>127717</td>\n",
              "      <td>0.081892</td>\n",
              "      <td>0</td>\n",
              "      <td>0</td>\n",
              "      <td>Freshman Father</td>\n",
              "      <td>Michael Scott</td>\n",
              "      <td>0</td>\n",
              "      <td>NaN</td>\n",
              "      <td>6/5/10</td>\n",
              "      <td>12</td>\n",
              "      <td>5.8</td>\n",
              "      <td>2010</td>\n",
              "    </tr>\n",
              "    <tr>\n",
              "      <th>2376</th>\n",
              "      <td>315620</td>\n",
              "      <td>0.068411</td>\n",
              "      <td>0</td>\n",
              "      <td>0</td>\n",
              "      <td>Doctor Who: A Christmas Carol</td>\n",
              "      <td>NaN</td>\n",
              "      <td>62</td>\n",
              "      <td>NaN</td>\n",
              "      <td>12/25/10</td>\n",
              "      <td>11</td>\n",
              "      <td>7.7</td>\n",
              "      <td>2010</td>\n",
              "    </tr>\n",
              "    <tr>\n",
              "      <th>2853</th>\n",
              "      <td>57892</td>\n",
              "      <td>0.130018</td>\n",
              "      <td>0</td>\n",
              "      <td>0</td>\n",
              "      <td>Vizontele</td>\n",
              "      <td>YÄ±lmaz ErdoÄŸan</td>\n",
              "      <td>110</td>\n",
              "      <td>NaN</td>\n",
              "      <td>2/2/01</td>\n",
              "      <td>12</td>\n",
              "      <td>7.2</td>\n",
              "      <td>2001</td>\n",
              "    </tr>\n",
              "    <tr>\n",
              "      <th>3279</th>\n",
              "      <td>54330</td>\n",
              "      <td>0.145331</td>\n",
              "      <td>0</td>\n",
              "      <td>0</td>\n",
              "      <td>ì•„ê¸°ì™€ ë‚˜</td>\n",
              "      <td>Kim Jin-Yeong</td>\n",
              "      <td>96</td>\n",
              "      <td>NaN</td>\n",
              "      <td>8/13/08</td>\n",
              "      <td>11</td>\n",
              "      <td>6.1</td>\n",
              "      <td>2008</td>\n",
              "    </tr>\n",
              "    <tr>\n",
              "      <th>4547</th>\n",
              "      <td>123024</td>\n",
              "      <td>0.520520</td>\n",
              "      <td>0</td>\n",
              "      <td>0</td>\n",
              "      <td>London 2012 Olympic Opening Ceremony: Isles of...</td>\n",
              "      <td>Danny Boyle</td>\n",
              "      <td>220</td>\n",
              "      <td>NaN</td>\n",
              "      <td>7/27/12</td>\n",
              "      <td>12</td>\n",
              "      <td>8.3</td>\n",
              "      <td>2012</td>\n",
              "    </tr>\n",
              "    <tr>\n",
              "      <th>4732</th>\n",
              "      <td>139463</td>\n",
              "      <td>0.235911</td>\n",
              "      <td>0</td>\n",
              "      <td>0</td>\n",
              "      <td>The Scapegoat</td>\n",
              "      <td>Charles Sturridge</td>\n",
              "      <td>100</td>\n",
              "      <td>NaN</td>\n",
              "      <td>9/9/12</td>\n",
              "      <td>12</td>\n",
              "      <td>6.2</td>\n",
              "      <td>2012</td>\n",
              "    </tr>\n",
              "    <tr>\n",
              "      <th>4797</th>\n",
              "      <td>369145</td>\n",
              "      <td>0.167501</td>\n",
              "      <td>0</td>\n",
              "      <td>0</td>\n",
              "      <td>Doctor Who: The Snowmen</td>\n",
              "      <td>NaN</td>\n",
              "      <td>60</td>\n",
              "      <td>NaN</td>\n",
              "      <td>12/25/12</td>\n",
              "      <td>10</td>\n",
              "      <td>7.8</td>\n",
              "      <td>2012</td>\n",
              "    </tr>\n",
              "    <tr>\n",
              "      <th>4890</th>\n",
              "      <td>126909</td>\n",
              "      <td>0.083202</td>\n",
              "      <td>0</td>\n",
              "      <td>0</td>\n",
              "      <td>Cousin Ben Troop Screening</td>\n",
              "      <td>Wes Anderson</td>\n",
              "      <td>2</td>\n",
              "      <td>NaN</td>\n",
              "      <td>1/1/12</td>\n",
              "      <td>14</td>\n",
              "      <td>7.0</td>\n",
              "      <td>2012</td>\n",
              "    </tr>\n",
              "    <tr>\n",
              "      <th>5830</th>\n",
              "      <td>282848</td>\n",
              "      <td>0.248944</td>\n",
              "      <td>0</td>\n",
              "      <td>0</td>\n",
              "      <td>Doctor Who: The Time of the Doctor</td>\n",
              "      <td>James Payne</td>\n",
              "      <td>60</td>\n",
              "      <td>NaN</td>\n",
              "      <td>12/25/13</td>\n",
              "      <td>26</td>\n",
              "      <td>8.5</td>\n",
              "      <td>2013</td>\n",
              "    </tr>\n",
              "    <tr>\n",
              "      <th>5934</th>\n",
              "      <td>200204</td>\n",
              "      <td>0.067433</td>\n",
              "      <td>0</td>\n",
              "      <td>0</td>\n",
              "      <td>Prada: Candy</td>\n",
              "      <td>Wes Anderson|Roman Coppola</td>\n",
              "      <td>3</td>\n",
              "      <td>NaN</td>\n",
              "      <td>3/25/13</td>\n",
              "      <td>27</td>\n",
              "      <td>6.9</td>\n",
              "      <td>2013</td>\n",
              "    </tr>\n",
              "    <tr>\n",
              "      <th>6043</th>\n",
              "      <td>190940</td>\n",
              "      <td>0.039080</td>\n",
              "      <td>0</td>\n",
              "      <td>0</td>\n",
              "      <td>Bombay Talkies</td>\n",
              "      <td>Anurag Kashyap|Dibakar Banerjee|Zoya Akhtar|Ka...</td>\n",
              "      <td>127</td>\n",
              "      <td>NaN</td>\n",
              "      <td>5/3/13</td>\n",
              "      <td>12</td>\n",
              "      <td>5.9</td>\n",
              "      <td>2013</td>\n",
              "    </tr>\n",
              "    <tr>\n",
              "      <th>6530</th>\n",
              "      <td>168891</td>\n",
              "      <td>0.092724</td>\n",
              "      <td>0</td>\n",
              "      <td>0</td>\n",
              "      <td>Saw Rebirth</td>\n",
              "      <td>Jeff Shuter|Daniel Viney</td>\n",
              "      <td>6</td>\n",
              "      <td>NaN</td>\n",
              "      <td>10/24/05</td>\n",
              "      <td>24</td>\n",
              "      <td>5.9</td>\n",
              "      <td>2005</td>\n",
              "    </tr>\n",
              "    <tr>\n",
              "      <th>8234</th>\n",
              "      <td>56804</td>\n",
              "      <td>0.028874</td>\n",
              "      <td>0</td>\n",
              "      <td>0</td>\n",
              "      <td>Viaggi di nozze</td>\n",
              "      <td>Carlo Verdone</td>\n",
              "      <td>103</td>\n",
              "      <td>NaN</td>\n",
              "      <td>12/15/95</td>\n",
              "      <td>44</td>\n",
              "      <td>6.7</td>\n",
              "      <td>1995</td>\n",
              "    </tr>\n",
              "    <tr>\n",
              "      <th>8614</th>\n",
              "      <td>65595</td>\n",
              "      <td>0.273934</td>\n",
              "      <td>0</td>\n",
              "      <td>0</td>\n",
              "      <td>T2 3-D: Battle Across Time</td>\n",
              "      <td>James Cameron</td>\n",
              "      <td>12</td>\n",
              "      <td>NaN</td>\n",
              "      <td>1/1/96</td>\n",
              "      <td>14</td>\n",
              "      <td>6.7</td>\n",
              "      <td>1996</td>\n",
              "    </tr>\n",
              "    <tr>\n",
              "      <th>8878</th>\n",
              "      <td>92208</td>\n",
              "      <td>0.038045</td>\n",
              "      <td>0</td>\n",
              "      <td>0</td>\n",
              "      <td>Mom's Got a Date With a Vampire</td>\n",
              "      <td>Steve Boyum</td>\n",
              "      <td>85</td>\n",
              "      <td>NaN</td>\n",
              "      <td>10/13/00</td>\n",
              "      <td>16</td>\n",
              "      <td>5.4</td>\n",
              "      <td>2000</td>\n",
              "    </tr>\n",
              "    <tr>\n",
              "      <th>9307</th>\n",
              "      <td>141859</td>\n",
              "      <td>0.094652</td>\n",
              "      <td>0</td>\n",
              "      <td>0</td>\n",
              "      <td>Goldeneye</td>\n",
              "      <td>Don Boyd</td>\n",
              "      <td>105</td>\n",
              "      <td>NaN</td>\n",
              "      <td>8/26/89</td>\n",
              "      <td>10</td>\n",
              "      <td>5.3</td>\n",
              "      <td>1989</td>\n",
              "    </tr>\n",
              "    <tr>\n",
              "      <th>9799</th>\n",
              "      <td>48847</td>\n",
              "      <td>0.175008</td>\n",
              "      <td>0</td>\n",
              "      <td>0</td>\n",
              "      <td>The Amputee</td>\n",
              "      <td>David Lynch</td>\n",
              "      <td>5</td>\n",
              "      <td>NaN</td>\n",
              "      <td>1/1/74</td>\n",
              "      <td>11</td>\n",
              "      <td>5.0</td>\n",
              "      <td>1974</td>\n",
              "    </tr>\n",
              "    <tr>\n",
              "      <th>10659</th>\n",
              "      <td>4255</td>\n",
              "      <td>0.344172</td>\n",
              "      <td>5000</td>\n",
              "      <td>0</td>\n",
              "      <td>The Party at Kitty and Stud's</td>\n",
              "      <td>Morton Lewis</td>\n",
              "      <td>71</td>\n",
              "      <td>NaN</td>\n",
              "      <td>2/10/70</td>\n",
              "      <td>10</td>\n",
              "      <td>3.0</td>\n",
              "      <td>1970</td>\n",
              "    </tr>\n",
              "  </tbody>\n",
              "</table>\n",
              "</div>"
            ],
            "text/plain": [
              "           id  popularity  budget  ...  vote_count vote_average release_year\n",
              "424    363869    0.244648       0  ...          21          6.1         2015\n",
              "620    361043    0.129696       0  ...          13          5.0         2015\n",
              "997    287663    0.330431       0  ...          13          6.8         2014\n",
              "1712    21634    0.302095       0  ...          57          7.4         2009\n",
              "1897    40534    0.020701       0  ...          11          7.0         2009\n",
              "2370   127717    0.081892       0  ...          12          5.8         2010\n",
              "2376   315620    0.068411       0  ...          11          7.7         2010\n",
              "2853    57892    0.130018       0  ...          12          7.2         2001\n",
              "3279    54330    0.145331       0  ...          11          6.1         2008\n",
              "4547   123024    0.520520       0  ...          12          8.3         2012\n",
              "4732   139463    0.235911       0  ...          12          6.2         2012\n",
              "4797   369145    0.167501       0  ...          10          7.8         2012\n",
              "4890   126909    0.083202       0  ...          14          7.0         2012\n",
              "5830   282848    0.248944       0  ...          26          8.5         2013\n",
              "5934   200204    0.067433       0  ...          27          6.9         2013\n",
              "6043   190940    0.039080       0  ...          12          5.9         2013\n",
              "6530   168891    0.092724       0  ...          24          5.9         2005\n",
              "8234    56804    0.028874       0  ...          44          6.7         1995\n",
              "8614    65595    0.273934       0  ...          14          6.7         1996\n",
              "8878    92208    0.038045       0  ...          16          5.4         2000\n",
              "9307   141859    0.094652       0  ...          10          5.3         1989\n",
              "9799    48847    0.175008       0  ...          11          5.0         1974\n",
              "10659    4255    0.344172    5000  ...          10          3.0         1970\n",
              "\n",
              "[23 rows x 12 columns]"
            ]
          },
          "metadata": {
            "tags": []
          },
          "execution_count": 68
        }
      ]
    },
    {
      "cell_type": "code",
      "metadata": {
        "id": "kqp8-WW7InBl",
        "colab_type": "code",
        "outputId": "01c3861d-5800-47ea-c150-896a69aeb399",
        "colab": {
          "base_uri": "https://localhost:8080/",
          "height": 829
        }
      },
      "source": [
        "df[df.genres.isnull()]"
      ],
      "execution_count": 69,
      "outputs": [
        {
          "output_type": "execute_result",
          "data": {
            "text/html": [
              "<div>\n",
              "<style scoped>\n",
              "    .dataframe tbody tr th:only-of-type {\n",
              "        vertical-align: middle;\n",
              "    }\n",
              "\n",
              "    .dataframe tbody tr th {\n",
              "        vertical-align: top;\n",
              "    }\n",
              "\n",
              "    .dataframe thead th {\n",
              "        text-align: right;\n",
              "    }\n",
              "</style>\n",
              "<table border=\"1\" class=\"dataframe\">\n",
              "  <thead>\n",
              "    <tr style=\"text-align: right;\">\n",
              "      <th></th>\n",
              "      <th>id</th>\n",
              "      <th>popularity</th>\n",
              "      <th>budget</th>\n",
              "      <th>revenue</th>\n",
              "      <th>original_title</th>\n",
              "      <th>director</th>\n",
              "      <th>runtime</th>\n",
              "      <th>genres</th>\n",
              "      <th>release_date</th>\n",
              "      <th>vote_count</th>\n",
              "      <th>vote_average</th>\n",
              "      <th>release_year</th>\n",
              "    </tr>\n",
              "  </thead>\n",
              "  <tbody>\n",
              "    <tr>\n",
              "      <th>424</th>\n",
              "      <td>363869</td>\n",
              "      <td>0.244648</td>\n",
              "      <td>0</td>\n",
              "      <td>0</td>\n",
              "      <td>Belli di papÃ</td>\n",
              "      <td>Guido Chiesa</td>\n",
              "      <td>100</td>\n",
              "      <td>NaN</td>\n",
              "      <td>10/29/15</td>\n",
              "      <td>21</td>\n",
              "      <td>6.1</td>\n",
              "      <td>2015</td>\n",
              "    </tr>\n",
              "    <tr>\n",
              "      <th>620</th>\n",
              "      <td>361043</td>\n",
              "      <td>0.129696</td>\n",
              "      <td>0</td>\n",
              "      <td>0</td>\n",
              "      <td>All Hallows' Eve 2</td>\n",
              "      <td>Antonio Padovan|Bryan Norton|Marc Roussel|Ryan...</td>\n",
              "      <td>90</td>\n",
              "      <td>NaN</td>\n",
              "      <td>10/6/15</td>\n",
              "      <td>13</td>\n",
              "      <td>5.0</td>\n",
              "      <td>2015</td>\n",
              "    </tr>\n",
              "    <tr>\n",
              "      <th>997</th>\n",
              "      <td>287663</td>\n",
              "      <td>0.330431</td>\n",
              "      <td>0</td>\n",
              "      <td>0</td>\n",
              "      <td>Star Wars Rebels: Spark of Rebellion</td>\n",
              "      <td>Steward Lee|Steven G. Lee</td>\n",
              "      <td>44</td>\n",
              "      <td>NaN</td>\n",
              "      <td>10/3/14</td>\n",
              "      <td>13</td>\n",
              "      <td>6.8</td>\n",
              "      <td>2014</td>\n",
              "    </tr>\n",
              "    <tr>\n",
              "      <th>1712</th>\n",
              "      <td>21634</td>\n",
              "      <td>0.302095</td>\n",
              "      <td>0</td>\n",
              "      <td>0</td>\n",
              "      <td>Prayers for Bobby</td>\n",
              "      <td>Russell Mulcahy</td>\n",
              "      <td>88</td>\n",
              "      <td>NaN</td>\n",
              "      <td>2/27/09</td>\n",
              "      <td>57</td>\n",
              "      <td>7.4</td>\n",
              "      <td>2009</td>\n",
              "    </tr>\n",
              "    <tr>\n",
              "      <th>1897</th>\n",
              "      <td>40534</td>\n",
              "      <td>0.020701</td>\n",
              "      <td>0</td>\n",
              "      <td>0</td>\n",
              "      <td>Jonas Brothers: The Concert Experience</td>\n",
              "      <td>Bruce Hendricks</td>\n",
              "      <td>76</td>\n",
              "      <td>NaN</td>\n",
              "      <td>2/27/09</td>\n",
              "      <td>11</td>\n",
              "      <td>7.0</td>\n",
              "      <td>2009</td>\n",
              "    </tr>\n",
              "    <tr>\n",
              "      <th>2370</th>\n",
              "      <td>127717</td>\n",
              "      <td>0.081892</td>\n",
              "      <td>0</td>\n",
              "      <td>0</td>\n",
              "      <td>Freshman Father</td>\n",
              "      <td>Michael Scott</td>\n",
              "      <td>0</td>\n",
              "      <td>NaN</td>\n",
              "      <td>6/5/10</td>\n",
              "      <td>12</td>\n",
              "      <td>5.8</td>\n",
              "      <td>2010</td>\n",
              "    </tr>\n",
              "    <tr>\n",
              "      <th>2376</th>\n",
              "      <td>315620</td>\n",
              "      <td>0.068411</td>\n",
              "      <td>0</td>\n",
              "      <td>0</td>\n",
              "      <td>Doctor Who: A Christmas Carol</td>\n",
              "      <td>NaN</td>\n",
              "      <td>62</td>\n",
              "      <td>NaN</td>\n",
              "      <td>12/25/10</td>\n",
              "      <td>11</td>\n",
              "      <td>7.7</td>\n",
              "      <td>2010</td>\n",
              "    </tr>\n",
              "    <tr>\n",
              "      <th>2853</th>\n",
              "      <td>57892</td>\n",
              "      <td>0.130018</td>\n",
              "      <td>0</td>\n",
              "      <td>0</td>\n",
              "      <td>Vizontele</td>\n",
              "      <td>YÄ±lmaz ErdoÄŸan</td>\n",
              "      <td>110</td>\n",
              "      <td>NaN</td>\n",
              "      <td>2/2/01</td>\n",
              "      <td>12</td>\n",
              "      <td>7.2</td>\n",
              "      <td>2001</td>\n",
              "    </tr>\n",
              "    <tr>\n",
              "      <th>3279</th>\n",
              "      <td>54330</td>\n",
              "      <td>0.145331</td>\n",
              "      <td>0</td>\n",
              "      <td>0</td>\n",
              "      <td>ì•„ê¸°ì™€ ë‚˜</td>\n",
              "      <td>Kim Jin-Yeong</td>\n",
              "      <td>96</td>\n",
              "      <td>NaN</td>\n",
              "      <td>8/13/08</td>\n",
              "      <td>11</td>\n",
              "      <td>6.1</td>\n",
              "      <td>2008</td>\n",
              "    </tr>\n",
              "    <tr>\n",
              "      <th>4547</th>\n",
              "      <td>123024</td>\n",
              "      <td>0.520520</td>\n",
              "      <td>0</td>\n",
              "      <td>0</td>\n",
              "      <td>London 2012 Olympic Opening Ceremony: Isles of...</td>\n",
              "      <td>Danny Boyle</td>\n",
              "      <td>220</td>\n",
              "      <td>NaN</td>\n",
              "      <td>7/27/12</td>\n",
              "      <td>12</td>\n",
              "      <td>8.3</td>\n",
              "      <td>2012</td>\n",
              "    </tr>\n",
              "    <tr>\n",
              "      <th>4732</th>\n",
              "      <td>139463</td>\n",
              "      <td>0.235911</td>\n",
              "      <td>0</td>\n",
              "      <td>0</td>\n",
              "      <td>The Scapegoat</td>\n",
              "      <td>Charles Sturridge</td>\n",
              "      <td>100</td>\n",
              "      <td>NaN</td>\n",
              "      <td>9/9/12</td>\n",
              "      <td>12</td>\n",
              "      <td>6.2</td>\n",
              "      <td>2012</td>\n",
              "    </tr>\n",
              "    <tr>\n",
              "      <th>4797</th>\n",
              "      <td>369145</td>\n",
              "      <td>0.167501</td>\n",
              "      <td>0</td>\n",
              "      <td>0</td>\n",
              "      <td>Doctor Who: The Snowmen</td>\n",
              "      <td>NaN</td>\n",
              "      <td>60</td>\n",
              "      <td>NaN</td>\n",
              "      <td>12/25/12</td>\n",
              "      <td>10</td>\n",
              "      <td>7.8</td>\n",
              "      <td>2012</td>\n",
              "    </tr>\n",
              "    <tr>\n",
              "      <th>4890</th>\n",
              "      <td>126909</td>\n",
              "      <td>0.083202</td>\n",
              "      <td>0</td>\n",
              "      <td>0</td>\n",
              "      <td>Cousin Ben Troop Screening</td>\n",
              "      <td>Wes Anderson</td>\n",
              "      <td>2</td>\n",
              "      <td>NaN</td>\n",
              "      <td>1/1/12</td>\n",
              "      <td>14</td>\n",
              "      <td>7.0</td>\n",
              "      <td>2012</td>\n",
              "    </tr>\n",
              "    <tr>\n",
              "      <th>5830</th>\n",
              "      <td>282848</td>\n",
              "      <td>0.248944</td>\n",
              "      <td>0</td>\n",
              "      <td>0</td>\n",
              "      <td>Doctor Who: The Time of the Doctor</td>\n",
              "      <td>James Payne</td>\n",
              "      <td>60</td>\n",
              "      <td>NaN</td>\n",
              "      <td>12/25/13</td>\n",
              "      <td>26</td>\n",
              "      <td>8.5</td>\n",
              "      <td>2013</td>\n",
              "    </tr>\n",
              "    <tr>\n",
              "      <th>5934</th>\n",
              "      <td>200204</td>\n",
              "      <td>0.067433</td>\n",
              "      <td>0</td>\n",
              "      <td>0</td>\n",
              "      <td>Prada: Candy</td>\n",
              "      <td>Wes Anderson|Roman Coppola</td>\n",
              "      <td>3</td>\n",
              "      <td>NaN</td>\n",
              "      <td>3/25/13</td>\n",
              "      <td>27</td>\n",
              "      <td>6.9</td>\n",
              "      <td>2013</td>\n",
              "    </tr>\n",
              "    <tr>\n",
              "      <th>6043</th>\n",
              "      <td>190940</td>\n",
              "      <td>0.039080</td>\n",
              "      <td>0</td>\n",
              "      <td>0</td>\n",
              "      <td>Bombay Talkies</td>\n",
              "      <td>Anurag Kashyap|Dibakar Banerjee|Zoya Akhtar|Ka...</td>\n",
              "      <td>127</td>\n",
              "      <td>NaN</td>\n",
              "      <td>5/3/13</td>\n",
              "      <td>12</td>\n",
              "      <td>5.9</td>\n",
              "      <td>2013</td>\n",
              "    </tr>\n",
              "    <tr>\n",
              "      <th>6530</th>\n",
              "      <td>168891</td>\n",
              "      <td>0.092724</td>\n",
              "      <td>0</td>\n",
              "      <td>0</td>\n",
              "      <td>Saw Rebirth</td>\n",
              "      <td>Jeff Shuter|Daniel Viney</td>\n",
              "      <td>6</td>\n",
              "      <td>NaN</td>\n",
              "      <td>10/24/05</td>\n",
              "      <td>24</td>\n",
              "      <td>5.9</td>\n",
              "      <td>2005</td>\n",
              "    </tr>\n",
              "    <tr>\n",
              "      <th>8234</th>\n",
              "      <td>56804</td>\n",
              "      <td>0.028874</td>\n",
              "      <td>0</td>\n",
              "      <td>0</td>\n",
              "      <td>Viaggi di nozze</td>\n",
              "      <td>Carlo Verdone</td>\n",
              "      <td>103</td>\n",
              "      <td>NaN</td>\n",
              "      <td>12/15/95</td>\n",
              "      <td>44</td>\n",
              "      <td>6.7</td>\n",
              "      <td>1995</td>\n",
              "    </tr>\n",
              "    <tr>\n",
              "      <th>8614</th>\n",
              "      <td>65595</td>\n",
              "      <td>0.273934</td>\n",
              "      <td>0</td>\n",
              "      <td>0</td>\n",
              "      <td>T2 3-D: Battle Across Time</td>\n",
              "      <td>James Cameron</td>\n",
              "      <td>12</td>\n",
              "      <td>NaN</td>\n",
              "      <td>1/1/96</td>\n",
              "      <td>14</td>\n",
              "      <td>6.7</td>\n",
              "      <td>1996</td>\n",
              "    </tr>\n",
              "    <tr>\n",
              "      <th>8878</th>\n",
              "      <td>92208</td>\n",
              "      <td>0.038045</td>\n",
              "      <td>0</td>\n",
              "      <td>0</td>\n",
              "      <td>Mom's Got a Date With a Vampire</td>\n",
              "      <td>Steve Boyum</td>\n",
              "      <td>85</td>\n",
              "      <td>NaN</td>\n",
              "      <td>10/13/00</td>\n",
              "      <td>16</td>\n",
              "      <td>5.4</td>\n",
              "      <td>2000</td>\n",
              "    </tr>\n",
              "    <tr>\n",
              "      <th>9307</th>\n",
              "      <td>141859</td>\n",
              "      <td>0.094652</td>\n",
              "      <td>0</td>\n",
              "      <td>0</td>\n",
              "      <td>Goldeneye</td>\n",
              "      <td>Don Boyd</td>\n",
              "      <td>105</td>\n",
              "      <td>NaN</td>\n",
              "      <td>8/26/89</td>\n",
              "      <td>10</td>\n",
              "      <td>5.3</td>\n",
              "      <td>1989</td>\n",
              "    </tr>\n",
              "    <tr>\n",
              "      <th>9799</th>\n",
              "      <td>48847</td>\n",
              "      <td>0.175008</td>\n",
              "      <td>0</td>\n",
              "      <td>0</td>\n",
              "      <td>The Amputee</td>\n",
              "      <td>David Lynch</td>\n",
              "      <td>5</td>\n",
              "      <td>NaN</td>\n",
              "      <td>1/1/74</td>\n",
              "      <td>11</td>\n",
              "      <td>5.0</td>\n",
              "      <td>1974</td>\n",
              "    </tr>\n",
              "    <tr>\n",
              "      <th>10659</th>\n",
              "      <td>4255</td>\n",
              "      <td>0.344172</td>\n",
              "      <td>5000</td>\n",
              "      <td>0</td>\n",
              "      <td>The Party at Kitty and Stud's</td>\n",
              "      <td>Morton Lewis</td>\n",
              "      <td>71</td>\n",
              "      <td>NaN</td>\n",
              "      <td>2/10/70</td>\n",
              "      <td>10</td>\n",
              "      <td>3.0</td>\n",
              "      <td>1970</td>\n",
              "    </tr>\n",
              "  </tbody>\n",
              "</table>\n",
              "</div>"
            ],
            "text/plain": [
              "           id  popularity  budget  ...  vote_count vote_average release_year\n",
              "424    363869    0.244648       0  ...          21          6.1         2015\n",
              "620    361043    0.129696       0  ...          13          5.0         2015\n",
              "997    287663    0.330431       0  ...          13          6.8         2014\n",
              "1712    21634    0.302095       0  ...          57          7.4         2009\n",
              "1897    40534    0.020701       0  ...          11          7.0         2009\n",
              "2370   127717    0.081892       0  ...          12          5.8         2010\n",
              "2376   315620    0.068411       0  ...          11          7.7         2010\n",
              "2853    57892    0.130018       0  ...          12          7.2         2001\n",
              "3279    54330    0.145331       0  ...          11          6.1         2008\n",
              "4547   123024    0.520520       0  ...          12          8.3         2012\n",
              "4732   139463    0.235911       0  ...          12          6.2         2012\n",
              "4797   369145    0.167501       0  ...          10          7.8         2012\n",
              "4890   126909    0.083202       0  ...          14          7.0         2012\n",
              "5830   282848    0.248944       0  ...          26          8.5         2013\n",
              "5934   200204    0.067433       0  ...          27          6.9         2013\n",
              "6043   190940    0.039080       0  ...          12          5.9         2013\n",
              "6530   168891    0.092724       0  ...          24          5.9         2005\n",
              "8234    56804    0.028874       0  ...          44          6.7         1995\n",
              "8614    65595    0.273934       0  ...          14          6.7         1996\n",
              "8878    92208    0.038045       0  ...          16          5.4         2000\n",
              "9307   141859    0.094652       0  ...          10          5.3         1989\n",
              "9799    48847    0.175008       0  ...          11          5.0         1974\n",
              "10659    4255    0.344172    5000  ...          10          3.0         1970\n",
              "\n",
              "[23 rows x 12 columns]"
            ]
          },
          "metadata": {
            "tags": []
          },
          "execution_count": 69
        }
      ]
    },
    {
      "cell_type": "code",
      "metadata": {
        "id": "UzT5zFE2InB4",
        "colab_type": "code",
        "colab": {}
      },
      "source": [
        "#based on the hist, replace the null value with mean value\n",
        "df.fillna(df.mean(),inplace=True)"
      ],
      "execution_count": 0,
      "outputs": []
    },
    {
      "cell_type": "code",
      "metadata": {
        "id": "l35u65JaInCA",
        "colab_type": "code",
        "colab": {}
      },
      "source": [
        "df.dropna(inplace=True)"
      ],
      "execution_count": 0,
      "outputs": []
    },
    {
      "cell_type": "code",
      "metadata": {
        "id": "Vj2Nx4dGInCF",
        "colab_type": "code",
        "outputId": "467210ed-8021-489a-9e6b-c33335b29a3b",
        "colab": {
          "base_uri": "https://localhost:8080/",
          "height": 316
        }
      },
      "source": [
        "#refresh to check the table info after cleaning\n",
        "df.info()"
      ],
      "execution_count": 72,
      "outputs": [
        {
          "output_type": "stream",
          "text": [
            "<class 'pandas.core.frame.DataFrame'>\n",
            "Int64Index: 10801 entries, 0 to 10865\n",
            "Data columns (total 12 columns):\n",
            "id                10801 non-null int64\n",
            "popularity        10801 non-null float64\n",
            "budget            10801 non-null int64\n",
            "revenue           10801 non-null int64\n",
            "original_title    10801 non-null object\n",
            "director          10801 non-null object\n",
            "runtime           10801 non-null int64\n",
            "genres            10801 non-null object\n",
            "release_date      10801 non-null object\n",
            "vote_count        10801 non-null int64\n",
            "vote_average      10801 non-null float64\n",
            "release_year      10801 non-null int64\n",
            "dtypes: float64(2), int64(6), object(4)\n",
            "memory usage: 1.1+ MB\n"
          ],
          "name": "stdout"
        }
      ]
    },
    {
      "cell_type": "markdown",
      "metadata": {
        "id": "IHAo0TGnInCJ",
        "colab_type": "text"
      },
      "source": [
        "<a id='eda'></a>\n",
        "## Exploratory Data Analysis"
      ]
    },
    {
      "cell_type": "code",
      "metadata": {
        "id": "HNfW9Jm8InCM",
        "colab_type": "code",
        "outputId": "93cfc39c-3910-488a-b848-49e92426c28d",
        "colab": {
          "base_uri": "https://localhost:8080/",
          "height": 262
        }
      },
      "source": [
        "# check relation for each indicator\n",
        "df.head()"
      ],
      "execution_count": 73,
      "outputs": [
        {
          "output_type": "execute_result",
          "data": {
            "text/html": [
              "<div>\n",
              "<style scoped>\n",
              "    .dataframe tbody tr th:only-of-type {\n",
              "        vertical-align: middle;\n",
              "    }\n",
              "\n",
              "    .dataframe tbody tr th {\n",
              "        vertical-align: top;\n",
              "    }\n",
              "\n",
              "    .dataframe thead th {\n",
              "        text-align: right;\n",
              "    }\n",
              "</style>\n",
              "<table border=\"1\" class=\"dataframe\">\n",
              "  <thead>\n",
              "    <tr style=\"text-align: right;\">\n",
              "      <th></th>\n",
              "      <th>id</th>\n",
              "      <th>popularity</th>\n",
              "      <th>budget</th>\n",
              "      <th>revenue</th>\n",
              "      <th>original_title</th>\n",
              "      <th>director</th>\n",
              "      <th>runtime</th>\n",
              "      <th>genres</th>\n",
              "      <th>release_date</th>\n",
              "      <th>vote_count</th>\n",
              "      <th>vote_average</th>\n",
              "      <th>release_year</th>\n",
              "    </tr>\n",
              "  </thead>\n",
              "  <tbody>\n",
              "    <tr>\n",
              "      <th>0</th>\n",
              "      <td>135397</td>\n",
              "      <td>32.985763</td>\n",
              "      <td>150000000</td>\n",
              "      <td>1513528810</td>\n",
              "      <td>Jurassic World</td>\n",
              "      <td>Colin Trevorrow</td>\n",
              "      <td>124</td>\n",
              "      <td>Action|Adventure|Science Fiction|Thriller</td>\n",
              "      <td>6/9/15</td>\n",
              "      <td>5562</td>\n",
              "      <td>6.5</td>\n",
              "      <td>2015</td>\n",
              "    </tr>\n",
              "    <tr>\n",
              "      <th>1</th>\n",
              "      <td>76341</td>\n",
              "      <td>28.419936</td>\n",
              "      <td>150000000</td>\n",
              "      <td>378436354</td>\n",
              "      <td>Mad Max: Fury Road</td>\n",
              "      <td>George Miller</td>\n",
              "      <td>120</td>\n",
              "      <td>Action|Adventure|Science Fiction|Thriller</td>\n",
              "      <td>5/13/15</td>\n",
              "      <td>6185</td>\n",
              "      <td>7.1</td>\n",
              "      <td>2015</td>\n",
              "    </tr>\n",
              "    <tr>\n",
              "      <th>2</th>\n",
              "      <td>262500</td>\n",
              "      <td>13.112507</td>\n",
              "      <td>110000000</td>\n",
              "      <td>295238201</td>\n",
              "      <td>Insurgent</td>\n",
              "      <td>Robert Schwentke</td>\n",
              "      <td>119</td>\n",
              "      <td>Adventure|Science Fiction|Thriller</td>\n",
              "      <td>3/18/15</td>\n",
              "      <td>2480</td>\n",
              "      <td>6.3</td>\n",
              "      <td>2015</td>\n",
              "    </tr>\n",
              "    <tr>\n",
              "      <th>3</th>\n",
              "      <td>140607</td>\n",
              "      <td>11.173104</td>\n",
              "      <td>200000000</td>\n",
              "      <td>2068178225</td>\n",
              "      <td>Star Wars: The Force Awakens</td>\n",
              "      <td>J.J. Abrams</td>\n",
              "      <td>136</td>\n",
              "      <td>Action|Adventure|Science Fiction|Fantasy</td>\n",
              "      <td>12/15/15</td>\n",
              "      <td>5292</td>\n",
              "      <td>7.5</td>\n",
              "      <td>2015</td>\n",
              "    </tr>\n",
              "    <tr>\n",
              "      <th>4</th>\n",
              "      <td>168259</td>\n",
              "      <td>9.335014</td>\n",
              "      <td>190000000</td>\n",
              "      <td>1506249360</td>\n",
              "      <td>Furious 7</td>\n",
              "      <td>James Wan</td>\n",
              "      <td>137</td>\n",
              "      <td>Action|Crime|Thriller</td>\n",
              "      <td>4/1/15</td>\n",
              "      <td>2947</td>\n",
              "      <td>7.3</td>\n",
              "      <td>2015</td>\n",
              "    </tr>\n",
              "  </tbody>\n",
              "</table>\n",
              "</div>"
            ],
            "text/plain": [
              "       id  popularity     budget  ...  vote_count vote_average release_year\n",
              "0  135397   32.985763  150000000  ...        5562          6.5         2015\n",
              "1   76341   28.419936  150000000  ...        6185          7.1         2015\n",
              "2  262500   13.112507  110000000  ...        2480          6.3         2015\n",
              "3  140607   11.173104  200000000  ...        5292          7.5         2015\n",
              "4  168259    9.335014  190000000  ...        2947          7.3         2015\n",
              "\n",
              "[5 rows x 12 columns]"
            ]
          },
          "metadata": {
            "tags": []
          },
          "execution_count": 73
        }
      ]
    },
    {
      "cell_type": "markdown",
      "metadata": {
        "id": "T0XGtDRLInCQ",
        "colab_type": "text"
      },
      "source": [
        "### 1. How's revenue in these years?"
      ]
    },
    {
      "cell_type": "code",
      "metadata": {
        "scrolled": true,
        "id": "L7xRn-DdInCR",
        "colab_type": "code",
        "outputId": "a4f46c2d-dc13-4fe6-d7aa-b17477f5b9f9",
        "colab": {
          "base_uri": "https://localhost:8080/",
          "height": 316
        }
      },
      "source": [
        "df.groupby(['release_year']).revenue.sum().plot(kind='line',color='purple',label='revenue')\n",
        "df.groupby(['release_year']).budget.sum().plot(kind='line',color='pink',label='budget')\n",
        "plt.title('Revenue and Budget Trends from year to year', fontsize = 18)\n",
        "plt.xlabel('Year', fontsize = 8)\n",
        "plt.ylabel('Revenue', fontsize = 8)\n",
        "plt.legend()"
      ],
      "execution_count": 74,
      "outputs": [
        {
          "output_type": "execute_result",
          "data": {
            "text/plain": [
              "<matplotlib.legend.Legend at 0x7fd32815e198>"
            ]
          },
          "metadata": {
            "tags": []
          },
          "execution_count": 74
        },
        {
          "output_type": "display_data",
          "data": {
            "image/png": "[encoded data removed]",
            "text/plain": [
              "<Figure size 432x288 with 1 Axes>"
            ]
          },
          "metadata": {
            "tags": []
          }
        }
      ]
    },
    {
      "cell_type": "markdown",
      "metadata": {
        "id": "LAXxjENEInCb",
        "colab_type": "text"
      },
      "source": [
        "### 2. How's the popularity in different levels looks like?"
      ]
    },
    {
      "cell_type": "code",
      "metadata": {
        "id": "jDhAHGNiInC5",
        "colab_type": "code",
        "outputId": "8339038f-ff48-4ffe-aedb-895abb46a661",
        "colab": {
          "base_uri": "https://localhost:8080/",
          "height": 175
        }
      },
      "source": [
        "df['popularity'].describe()"
      ],
      "execution_count": 75,
      "outputs": [
        {
          "output_type": "execute_result",
          "data": {
            "text/plain": [
              "count    10801.000000\n",
              "mean         0.649450\n",
              "std          1.002395\n",
              "min          0.000188\n",
              "25%          0.209163\n",
              "50%          0.385492\n",
              "75%          0.717479\n",
              "max         32.985763\n",
              "Name: popularity, dtype: float64"
            ]
          },
          "metadata": {
            "tags": []
          },
          "execution_count": 75
        }
      ]
    },
    {
      "cell_type": "code",
      "metadata": {
        "id": "wSVg3hQdInC9",
        "colab_type": "code",
        "colab": {}
      },
      "source": [
        "# Based on the max and min value of popularity, break down the popularity into 3 different levels"
      ],
      "execution_count": 0,
      "outputs": []
    },
    {
      "cell_type": "code",
      "metadata": {
        "id": "QEJ38TkkInDF",
        "colab_type": "code",
        "colab": {}
      },
      "source": [
        "df['popularity_levels'] = pd.cut(df['popularity'], bins=3, labels = ['Low', 'Medium', 'High'])"
      ],
      "execution_count": 0,
      "outputs": []
    },
    {
      "cell_type": "code",
      "metadata": {
        "id": "E638rRaOInDL",
        "colab_type": "code",
        "colab": {}
      },
      "source": [
        "# check the relationship between popularity levels and budget"
      ],
      "execution_count": 0,
      "outputs": []
    },
    {
      "cell_type": "code",
      "metadata": {
        "id": "XxYT0mYTInDQ",
        "colab_type": "code",
        "outputId": "1bd16175-cff3-4a21-b06e-c2bb07370b82",
        "colab": {
          "base_uri": "https://localhost:8080/",
          "height": 333
        }
      },
      "source": [
        "df.groupby('popularity_levels')['budget'].mean().plot(kind='bar')\n",
        "plt.xlabel('popularity levels',fontsize=18)\n",
        "plt.ylabel('budget',fontsize=18)\n",
        "plt.title('Avg budget at different popularity level')\n",
        "plt.show()"
      ],
      "execution_count": 79,
      "outputs": [
        {
          "output_type": "display_data",
          "data": {
            "image/png": "[encoded data removed]",
            "text/plain": [
              "<Figure size 432x288 with 1 Axes>"
            ]
          },
          "metadata": {
            "tags": []
          }
        }
      ]
    },
    {
      "cell_type": "markdown",
      "metadata": {
        "id": "lZKz9uFlInDZ",
        "colab_type": "text"
      },
      "source": [
        "### 3. Which is the top genres for the movies?"
      ]
    },
    {
      "cell_type": "code",
      "metadata": {
        "id": "R3OroTi2InDa",
        "colab_type": "code",
        "colab": {}
      },
      "source": [
        "def calculate_count(column):\n",
        "    # Convert column to string and seperate it by '|'\n",
        "    data = df[column].str.cat(sep = '|')\n",
        "    # Storing the values seperately in a Pandas series\n",
        "    data = pd.Series(data.split('|'))\n",
        "    count = data.value_counts(ascending = False)\n",
        "    return count"
      ],
      "execution_count": 0,
      "outputs": []
    },
    {
      "cell_type": "code",
      "metadata": {
        "id": "oOU0U9AcInD3",
        "colab_type": "code",
        "outputId": "e2813708-84e2-4eec-9a2c-46137d0d02bc",
        "colab": {
          "base_uri": "https://localhost:8080/",
          "height": 210
        }
      },
      "source": [
        "count = calculate_count('genres')\n",
        "count.head(10)"
      ],
      "execution_count": 81,
      "outputs": [
        {
          "output_type": "execute_result",
          "data": {
            "text/plain": [
              "Drama              4755\n",
              "Comedy             3782\n",
              "Thriller           2905\n",
              "Action             2379\n",
              "Romance            1708\n",
              "Horror             1636\n",
              "Adventure          1466\n",
              "Crime              1354\n",
              "Science Fiction    1224\n",
              "Family             1223\n",
              "dtype: int64"
            ]
          },
          "metadata": {
            "tags": []
          },
          "execution_count": 81
        }
      ]
    },
    {
      "cell_type": "code",
      "metadata": {
        "id": "-yC9UD93InEC",
        "colab_type": "code",
        "outputId": "60447ebb-baa8-4f34-fc1c-ca225df14d72",
        "colab": {
          "base_uri": "https://localhost:8080/",
          "height": 575
        }
      },
      "source": [
        "count.plot(kind='pie', figsize = (10, 10));"
      ],
      "execution_count": 82,
      "outputs": [
        {
          "output_type": "display_data",
          "data": {
            "image/png": "[encoded data removed]",
            "text/plain": [
              "<Figure size 720x720 with 1 Axes>"
            ]
          },
          "metadata": {
            "tags": []
          }
        }
      ]
    },
    {
      "cell_type": "markdown",
      "metadata": {
        "id": "4_fWnd_gInEa",
        "colab_type": "text"
      },
      "source": [
        "<a id='conclusions'></a>\n",
        "## Conclusions\n",
        "\n"
      ]
    },
    {
      "cell_type": "markdown",
      "metadata": {
        "id": "oEHo_FBtInEa",
        "colab_type": "text"
      },
      "source": [
        "### 1. Relationship between total revenue and year"
      ]
    },
    {
      "cell_type": "markdown",
      "metadata": {
        "id": "BODhpfqsInEm",
        "colab_type": "text"
      },
      "source": [
        "#### Used line chart to look into the relationship between revenue in the time trend, the reslut shows the total revenue is increasing each year."
      ]
    },
    {
      "cell_type": "markdown",
      "metadata": {
        "id": "qZ4RYrt4InEn",
        "colab_type": "text"
      },
      "source": [
        "### 2. Relationship between popularity and budget"
      ]
    },
    {
      "cell_type": "markdown",
      "metadata": {
        "id": "8dizRDC7InEp",
        "colab_type": "text"
      },
      "source": [
        "#### Grouped popularity in 3 levels: LOW, MEDIUM, HIGH, and bar chart shows higher popularity, higher budget."
      ]
    },
    {
      "cell_type": "markdown",
      "metadata": {
        "id": "lHHkWBwHInEq",
        "colab_type": "text"
      },
      "source": [
        "### 3. Genres distribution"
      ]
    },
    {
      "cell_type": "markdown",
      "metadata": {
        "id": "MDi-rTv9InEs",
        "colab_type": "text"
      },
      "source": [
        "#### After count the genres and get the pie chart, it is clear to see the success on Drama."
      ]
    },
    {
      "cell_type": "markdown",
      "metadata": {
        "id": "bzKJO0LfInEu",
        "colab_type": "text"
      },
      "source": [
        "### Limitations: The analysis is based on replacing over 65 null values by mean, this may cause some bias of the analysis."
      ]
    }
  ]
}